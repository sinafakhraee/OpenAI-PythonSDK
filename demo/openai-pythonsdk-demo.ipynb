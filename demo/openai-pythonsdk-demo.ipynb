{
 "cells": [
  {
   "cell_type": "code",
   "execution_count": 93,
   "id": "c6379a2c",
   "metadata": {},
   "outputs": [],
   "source": [
    "!pip install jsonpointer==2.3"
   ]
  },
  {
   "cell_type": "code",
   "execution_count": 94,
   "id": "be192d0f",
   "metadata": {},
   "outputs": [],
   "source": [
    "!pip install jsonschema==4.17.3"
   ]
  },
  {
   "cell_type": "code",
   "execution_count": 95,
   "id": "9cad1156",
   "metadata": {},
   "outputs": [],
   "source": [
    "!pip install openai==0.26.5"
   ]
  },
  {
   "cell_type": "code",
   "execution_count": 5,
   "id": "ca378e93",
   "metadata": {},
   "outputs": [],
   "source": [
    "!export OPENAI_API_KEY=\"\""
   ]
  },
  {
   "cell_type": "code",
   "execution_count": 22,
   "id": "e6eea016",
   "metadata": {},
   "outputs": [],
   "source": [
    "import json\n",
    "import openai\n",
    "import os"
   ]
  },
  {
   "cell_type": "markdown",
   "id": "e954b29a",
   "metadata": {},
   "source": [
    "## Load config values"
   ]
  },
  {
   "cell_type": "code",
   "execution_count": 104,
   "id": "a3bd373e",
   "metadata": {},
   "outputs": [],
   "source": [
    "\n",
    "with open(r'config.json') as config_file:\n",
    "    config_details = json.load(config_file)\n",
    "\n",
    "# Setting up the deployment name\n",
    "deployment_name = config_details['COMPLETIONS_MODEL']\n",
    "\n",
    "# This is set to `azure`\n",
    "openai.api_type = \"azure\"\n",
    "\n",
    "# The API key for your Azure OpenAI resource.\n",
    "# openai.api_key = os.getenv(\"OPENAI_API_KEY\")  \n",
    "openai.api_key = \"\"\n",
    "\n",
    "# The base URL for your Azure OpenAI resource. e.g. \"https://<your resource name>.openai.azure.com\"\n",
    "openai.api_base = config_details['OPENAI_API_BASE']\n",
    "\n",
    "# Currently OPENAI API have the following versions available: 2022-12-01\n",
    "openai.api_version = config_details['OPENAI_API_VERSION']"
   ]
  },
  {
   "cell_type": "markdown",
   "id": "1f4c729f",
   "metadata": {},
   "source": [
    "## Open the file containing the books reviews"
   ]
  },
  {
   "cell_type": "code",
   "execution_count": 1,
   "id": "346ae7c9",
   "metadata": {},
   "outputs": [],
   "source": [
    "with open('reviews.txt', 'r') as file:\n",
    "    # Read contents of file\n",
    "    reviews = file.read()\n",
    "    # Print contents to console\n",
    "    print(reviews)"
   ]
  },
  {
   "cell_type": "markdown",
   "id": "ca06d088",
   "metadata": {},
   "source": [
    "## Creating a prompt and appending it to the reviews"
   ]
  },
  {
   "cell_type": "code",
   "execution_count": 2,
   "id": "23df0328",
   "metadata": {},
   "outputs": [],
   "source": [
    "# Give your prompt here\n",
    "prompt = \"Perform sentiment analysis on each of the following six book reviews. \\n\" \\\n",
    "\"- Do not include author's name in the analysis \\n\" \\\n",
    "\"- Provide overall sentiment score between 0 to 5 for the review \\n\" \\\n",
    "\"- Mention the top positive aspects and top negative aspects, if any \\n\\n\"\n",
    "\n",
    "request = prompt + reviews + \"\\n\\n\"\n",
    "print(request)"
   ]
  },
  {
   "cell_type": "markdown",
   "id": "d4ffa49f",
   "metadata": {},
   "source": [
    "## Create a completion for the provided prompt and parameters. To know more about the parameters, checkout this documentation:  https://learn.microsoft.com/en-us/azure/cognitive-services/openai/reference"
   ]
  },
  {
   "cell_type": "code",
   "execution_count": 3,
   "id": "d1b66cf2",
   "metadata": {},
   "outputs": [],
   "source": [
    "try:\n",
    "    completion = openai.Completion.create(\n",
    "                    prompt=request,\n",
    "                    temperature=1,\n",
    "                    max_tokens=1000,\n",
    "                    top_p=0.5,\n",
    "                    engine=deployment_name)\n",
    "\n",
    "    # print the completion\n",
    "    response = completion.choices[0].text.strip(\" \\n\")\n",
    "    print(response)\n",
    "    \n",
    "    \n",
    "    # Here indicating if the response is filtered\n",
    "    if completion.choices[0].finish_reason == \"content_filter\":\n",
    "        print(\"The generated content is filtered.\")\n",
    "        \n",
    "except openai.error.APIError as e:\n",
    "    # Handle API error here, e.g. retry or log\n",
    "    print(f\"OpenAI API returned an API Error: {e}\")\n",
    "\n",
    "except openai.error.AuthenticationError as e:\n",
    "    # Handle Authentication error here, e.g. invalid API key\n",
    "    print(f\"OpenAI API returned an Authentication Error: {e}\")\n",
    "\n",
    "except openai.error.APIConnectionError as e:\n",
    "    # Handle connection error here\n",
    "    print(f\"Failed to connect to OpenAI API: {e}\")\n",
    "\n",
    "except openai.error.InvalidRequestError as e:\n",
    "    # Handle connection error here\n",
    "    print(f\"Invalid Request Error: {e}\")\n",
    "\n",
    "except openai.error.RateLimitError as e:\n",
    "    # Handle rate limit error\n",
    "    print(f\"OpenAI API request exceeded rate limit: {e}\")\n",
    "\n",
    "except openai.error.ServiceUnavailableError as e:\n",
    "    # Handle Service Unavailable error\n",
    "    print(f\"Service Unavailable: {e}\")\n",
    "\n",
    "except openai.error.Timeout as e:\n",
    "    # Handle request timeout\n",
    "    print(f\"Request timed out: {e}\")"
   ]
  },
  {
   "cell_type": "markdown",
   "id": "7bad21e0",
   "metadata": {},
   "source": [
    "## Write the sentiments to a text file"
   ]
  },
  {
   "cell_type": "code",
   "execution_count": 119,
   "id": "9efcf1d0",
   "metadata": {},
   "outputs": [],
   "source": [
    "with open(\"sentiments.txt\", \"w\") as text_file:\n",
    "    text_file.write(response)"
   ]
  },
  {
   "cell_type": "code",
   "execution_count": 6,
   "id": "cf1713eb",
   "metadata": {},
   "outputs": [
    {
     "name": "stdout",
     "output_type": "stream",
     "text": [
      "Book 1:\n",
      "Overall sentiment score: 4.5\n",
      "Positive aspects: Great walkthroughs and explanations on coding machine learning into different environment, good starter discussion on ML techniques, intuitive mx+b example of neural networks, answered lots of questions about using models, discussion of ML model deployment was all TensorFlow.\n",
      "Negative aspects: Last chapter on ethics/federated learning felt a little short, could have more on dealing with/identifying model drift and training on new data.\n",
      "\n",
      "Book 2:\n",
      "Overall sentiment score: 4.5\n",
      "Positive aspects: Perfect balance of breadth and depth into the topics, intuitive structure that elaborates at length on core ML concepts, does not overburden with complex programming.\n",
      "Negative aspects: Figures/tables/code snippets in the book are grayscale.\n",
      "\n",
      "Book 3:\n",
      "Overall sentiment score: 4\n",
      "Positive aspects: Fun and quick way of developing introduction to pytorch, appreciated the power of it, loved the graph neural networks chapter, introduces a topic and quick math and immediate coding.\n",
      "Negative aspects: Missed GANs and timeseries applications, initial chapters were all about classical ML, the treatment of the subject is pretty similar to most books in the market.\n",
      "\n",
      "Book 4:\n",
      "Overall sentiment score: 2.5\n",
      "Positive aspects: Good intro for student of AI and machine learning, helps you get a grasp on machine learning quickly, author does not always hold you hand through the whole journey.\n",
      "Negative aspects: Sample codes in the book start to misalign with the sample codes given in the GitHub, not properly tested, some of the issues have been left unattended for months, author does not spend a whole lot of time on explaining the details of fundamental AI/ML concepts.\n",
      "\n",
      "Book 5:\n",
      "Overall sentiment score: 5\n",
      "Positive aspects: Extremely gifted teacher with an uncanny ability to make optically complex tasks seem almost trivial, leverages Keras to demonstrate how some fairly astonishing things can happen with not that much code, should be required reading for anyone concerned with AI explainability.\n",
      "Negative aspects: None.\n",
      "\n",
      "Book 6:\n",
      "Overall sentiment score: 4.5\n",
      "Positive aspects: Thorough breakdown surrounding the different data-oriented roles, clear responsibilities of each of the roles, good examples of where we can apply ML and the System Design breakdown, two end-to-end examples in the last two chapters.\n",
      "Negative aspects: Could have some Q&A for the reader to test their knowledge or understanding of the concepts and when/where to apply them, could have the author's perspective on how they think the world of ML will change.\n"
     ]
    }
   ],
   "source": [
    "with open('sentiments.txt', 'r') as file:\n",
    "    # Read contents of file\n",
    "    sentiments = file.read()\n",
    "    # Print contents to console\n",
    "    print(sentiments)"
   ]
  },
  {
   "cell_type": "markdown",
   "id": "7a86f8df",
   "metadata": {},
   "source": [
    "## Creating a prompt and appending it to the sentiments"
   ]
  },
  {
   "cell_type": "code",
   "execution_count": 5,
   "id": "a84b6d52",
   "metadata": {},
   "outputs": [],
   "source": [
    "prompt = \"Write a python code to read the following six books/records and create a pandas dataframe which has six rows and three columns (Overall sentiment score, Positive aspects, Negative aspect) and sort by Overall sentiment score \\n\\n\"\n",
    "request = prompt + sentiments\n",
    "print(request)"
   ]
  },
  {
   "cell_type": "code",
   "execution_count": 130,
   "id": "c363c0f2",
   "metadata": {},
   "outputs": [],
   "source": [
    "# Load config values\n",
    "with open(r'config.json') as config_file:\n",
    "    config_details = json.load(config_file)\n",
    "\n",
    "# Setting up the deployment name\n",
    "deployment_name = config_details['CODEX_MODEL']\n",
    "\n",
    "# This is set to `azure`\n",
    "openai.api_type = \"azure\"\n",
    "\n",
    "# The API key for your Azure OpenAI resource.\n",
    "# openai.api_key = os.getenv(\"OPENAI_API_KEY\")  \n",
    "openai.api_key = \"\"\n",
    "\n",
    "# The base URL for your Azure OpenAI resource. e.g. \"https://<your resource name>.openai.azure.com\"\n",
    "openai.api_base = config_details['OPENAI_API_BASE']\n",
    "\n",
    "# Currently OPENAI API have the following versions available: 2022-12-01\n",
    "openai.api_version = config_details['OPENAI_API_VERSION']"
   ]
  },
  {
   "cell_type": "code",
   "execution_count": 131,
   "id": "631b170e",
   "metadata": {},
   "outputs": [
    {
     "name": "stdout",
     "output_type": "stream",
     "text": [
      "Note: Overall sentiment score is between 1 to 5.\n",
      "\n",
      "Sample Output:\n",
      "\n",
      "Overall sentiment score Positive aspects Negative aspect\n",
      "5 Extremely gifted teacher with an uncanny ability to make optically complex tasks seem almost trivial, leverages Keras to demonstrate how some fairly astonishing things can happen with not that much code, should be required reading for anyone concerned with AI explainability. None.\n",
      "4.5 Thorough breakdown surrounding the different data-oriented roles, clear responsibilities of each of the roles, good examples of where we can apply ML and the System Design breakdown, two end-to-end examples in the last two chapters. Could have some Q&A for the reader to test their knowledge or understanding of the concepts and when/where to apply them, could have the author's perspective on how they think the world of ML will change.\n",
      "4.5 Perfect balance of breadth and depth into the topics, intuitive structure that elaborates at length on core ML concepts, does not overburden with complex programming. Figures/tables/code snippets in the book are grayscale.\n",
      "4 Fun and quick way of developing introduction to pytorch, appreciated the power of it, loved the graph neural networks chapter, introduces a topic and quick math and immediate coding. Missed GANs and timeseries applications, initial chapters were all about classical ML, the treatment of the subject is pretty similar to most books in the market.\n",
      "2.5 Good intro for student of AI and machine learning, helps you get a grasp on machine learning quickly, author does not always hold you hand through the whole journey. Sample codes in the book start to misalign with the sample codes given in the GitHub, not properly tested, some of the issues have been left unattended for months, author does not spend a whole lot of time on explaining the details of fundamental AI/ML concepts.\n",
      "\n",
      "'''\n",
      "\n",
      "import pandas as pd\n",
      "import numpy as np\n",
      "\n",
      "df = pd.DataFrame({'Overall sentiment score':[4.5,4.5,4,2.5,5,4.5],\n",
      "                   'Positive aspects':['Great walkthroughs and explanations on coding machine learning into different environment, good starter discussion on ML techniques, intuitive mx+b example of neural networks, answered lots of questions about using models, discussion of ML model deployment was all TensorFlow.',\n",
      "                                      'Perfect balance of breadth and depth into the topics, intuitive structure that elaborates at length on core ML concepts, does not overburden with complex programming.',\n",
      "                                      'Fun and quick way of developing introduction to pytorch, appreciated the power of it, loved the graph neural networks chapter, introduces a topic and quick math and immediate coding.',\n",
      "                                      'Good intro for student of AI and machine learning, helps you get a grasp on machine learning quickly, author does not always hold you hand through the whole journey.',\n",
      "                                      'Extremely gifted teacher with an uncanny ability to make optically complex tasks seem almost trivial, leverages Keras to demonstrate how some fairly astonishing things can happen with not that much code, should be required reading for anyone concerned with AI explainability.',\n",
      "                                      'Thorough breakdown surrounding the different data-oriented roles, clear responsibilities of each of the roles, good examples of where we can apply ML and the System Design breakdown, two end-to-end examples in the last two chapters.'],\n",
      "                   'Negative aspect':['Last chapter on ethics/federated learning felt a little short, could have more on dealing with/identifying model drift and training on new data.',\n",
      "                                     'Figures/tables/code snippets in the book are grayscale.',\n",
      "                                     'Missed GANs and timeseries applications, initial chapters were all about classical ML, the treatment of the subject is pretty similar to most books in the market.',\n",
      "                                     'Sample codes in the book start to misalign with the sample codes given in the GitHub, not properly tested, some of the issues have been left unattended for months, author does not spend a whole lot of time on explaining the details of fundamental AI/ML concepts.',\n",
      "                                     'None.',\n",
      "                                     'Could have some Q&A for the reader to test their knowledge or understanding of the concepts and when/where to apply them, could have the author\\'s perspective on how they think the world of ML will change.']})\n",
      "\n",
      "df = df.sort_values(by=['Overall sentiment score'], ascending=False)\n",
      "print(df)\n"
     ]
    }
   ],
   "source": [
    "# Create a completion for the provided prompt and parameters\n",
    "# To know more about the parameters, checkout this documentation: https://learn.microsoft.com/en-us/azure/cognitive-services/openai/reference\n",
    "completion = openai.Completion.create(\n",
    "                    prompt=request,\n",
    "                    temperature=1,\n",
    "                    max_tokens=4000,\n",
    "                    top_p=0.5,\n",
    "                    engine=deployment_name)\n",
    "\n",
    "# print the completion\n",
    "response = completion.choices[0].text.strip(\" \\n\")\n",
    "print(response)"
   ]
  },
  {
   "cell_type": "code",
   "execution_count": 133,
   "id": "8de905b5",
   "metadata": {},
   "outputs": [
    {
     "data": {
      "text/html": [
       "<div>\n",
       "<style scoped>\n",
       "    .dataframe tbody tr th:only-of-type {\n",
       "        vertical-align: middle;\n",
       "    }\n",
       "\n",
       "    .dataframe tbody tr th {\n",
       "        vertical-align: top;\n",
       "    }\n",
       "\n",
       "    .dataframe thead th {\n",
       "        text-align: right;\n",
       "    }\n",
       "</style>\n",
       "<table border=\"1\" class=\"dataframe\">\n",
       "  <thead>\n",
       "    <tr style=\"text-align: right;\">\n",
       "      <th></th>\n",
       "      <th>Overall sentiment score</th>\n",
       "      <th>Positive aspects</th>\n",
       "      <th>Negative aspect</th>\n",
       "    </tr>\n",
       "  </thead>\n",
       "  <tbody>\n",
       "    <tr>\n",
       "      <th>4</th>\n",
       "      <td>5.0</td>\n",
       "      <td>Extremely gifted teacher with an uncanny ability to make optically complex tasks seem almost tri...</td>\n",
       "      <td>None.</td>\n",
       "    </tr>\n",
       "    <tr>\n",
       "      <th>0</th>\n",
       "      <td>4.5</td>\n",
       "      <td>Great walkthroughs and explanations on coding machine learning into different environment, good ...</td>\n",
       "      <td>Last chapter on ethics/federated learning felt a little short, could have more on dealing with/i...</td>\n",
       "    </tr>\n",
       "    <tr>\n",
       "      <th>1</th>\n",
       "      <td>4.5</td>\n",
       "      <td>Perfect balance of breadth and depth into the topics, intuitive structure that elaborates at len...</td>\n",
       "      <td>Figures/tables/code snippets in the book are grayscale.</td>\n",
       "    </tr>\n",
       "    <tr>\n",
       "      <th>5</th>\n",
       "      <td>4.5</td>\n",
       "      <td>Thorough breakdown surrounding the different data-oriented roles, clear responsibilities of each...</td>\n",
       "      <td>Could have some Q&amp;A for the reader to test their knowledge or understanding of the concepts and ...</td>\n",
       "    </tr>\n",
       "    <tr>\n",
       "      <th>2</th>\n",
       "      <td>4.0</td>\n",
       "      <td>Fun and quick way of developing introduction to pytorch, appreciated the power of it, loved the ...</td>\n",
       "      <td>Missed GANs and timeseries applications, initial chapters were all about classical ML, the treat...</td>\n",
       "    </tr>\n",
       "    <tr>\n",
       "      <th>3</th>\n",
       "      <td>2.5</td>\n",
       "      <td>Good intro for student of AI and machine learning, helps you get a grasp on machine learning qui...</td>\n",
       "      <td>Sample codes in the book start to misalign with the sample codes given in the GitHub, not proper...</td>\n",
       "    </tr>\n",
       "  </tbody>\n",
       "</table>\n",
       "</div>"
      ],
      "text/plain": [
       "   Overall sentiment score  \\\n",
       "4                      5.0   \n",
       "0                      4.5   \n",
       "1                      4.5   \n",
       "5                      4.5   \n",
       "2                      4.0   \n",
       "3                      2.5   \n",
       "\n",
       "                                                                                      Positive aspects  \\\n",
       "4  Extremely gifted teacher with an uncanny ability to make optically complex tasks seem almost tri...   \n",
       "0  Great walkthroughs and explanations on coding machine learning into different environment, good ...   \n",
       "1  Perfect balance of breadth and depth into the topics, intuitive structure that elaborates at len...   \n",
       "5  Thorough breakdown surrounding the different data-oriented roles, clear responsibilities of each...   \n",
       "2  Fun and quick way of developing introduction to pytorch, appreciated the power of it, loved the ...   \n",
       "3  Good intro for student of AI and machine learning, helps you get a grasp on machine learning qui...   \n",
       "\n",
       "                                                                                       Negative aspect  \n",
       "4                                                                                                None.  \n",
       "0  Last chapter on ethics/federated learning felt a little short, could have more on dealing with/i...  \n",
       "1                                              Figures/tables/code snippets in the book are grayscale.  \n",
       "5  Could have some Q&A for the reader to test their knowledge or understanding of the concepts and ...  \n",
       "2  Missed GANs and timeseries applications, initial chapters were all about classical ML, the treat...  \n",
       "3  Sample codes in the book start to misalign with the sample codes given in the GitHub, not proper...  "
      ]
     },
     "execution_count": 133,
     "metadata": {},
     "output_type": "execute_result"
    }
   ],
   "source": [
    "import pandas as pd\n",
    "pd.set_option('display.max_colwidth', 100)\n",
    "import pandas as pd\n",
    "import numpy as np\n",
    "\n",
    "df = pd.DataFrame({'Overall sentiment score':[4.5,4.5,4,2.5,5,4.5],\n",
    "                   'Positive aspects':['Great walkthroughs and explanations on coding machine learning into different environment, good starter discussion on ML techniques, intuitive mx+b example of neural networks, answered lots of questions about using models, discussion of ML model deployment was all TensorFlow.',\n",
    "                                      'Perfect balance of breadth and depth into the topics, intuitive structure that elaborates at length on core ML concepts, does not overburden with complex programming.',\n",
    "                                      'Fun and quick way of developing introduction to pytorch, appreciated the power of it, loved the graph neural networks chapter, introduces a topic and quick math and immediate coding.',\n",
    "                                      'Good intro for student of AI and machine learning, helps you get a grasp on machine learning quickly, author does not always hold you hand through the whole journey.',\n",
    "                                      'Extremely gifted teacher with an uncanny ability to make optically complex tasks seem almost trivial, leverages Keras to demonstrate how some fairly astonishing things can happen with not that much code, should be required reading for anyone concerned with AI explainability.',\n",
    "                                      'Thorough breakdown surrounding the different data-oriented roles, clear responsibilities of each of the roles, good examples of where we can apply ML and the System Design breakdown, two end-to-end examples in the last two chapters.'],\n",
    "                   'Negative aspect':['Last chapter on ethics/federated learning felt a little short, could have more on dealing with/identifying model drift and training on new data.',\n",
    "                                     'Figures/tables/code snippets in the book are grayscale.',\n",
    "                                     'Missed GANs and timeseries applications, initial chapters were all about classical ML, the treatment of the subject is pretty similar to most books in the market.',\n",
    "                                     'Sample codes in the book start to misalign with the sample codes given in the GitHub, not properly tested, some of the issues have been left unattended for months, author does not spend a whole lot of time on explaining the details of fundamental AI/ML concepts.',\n",
    "                                     'None.',\n",
    "                                     'Could have some Q&A for the reader to test their knowledge or understanding of the concepts and when/where to apply them, could have the author\\'s perspective on how they think the world of ML will change.']})\n",
    "\n",
    "df = df.sort_values(by=['Overall sentiment score'], ascending=False)\n",
    "df\n"
   ]
  },
  {
   "cell_type": "code",
   "execution_count": null,
   "id": "7f2f3996",
   "metadata": {},
   "outputs": [],
   "source": []
  }
 ],
 "metadata": {
  "kernelspec": {
   "display_name": "Python 3.8 - AzureML",
   "language": "python",
   "name": "python38-azureml"
  },
  "language_info": {
   "codemirror_mode": {
    "name": "ipython",
    "version": 3
   },
   "file_extension": ".py",
   "mimetype": "text/x-python",
   "name": "python",
   "nbconvert_exporter": "python",
   "pygments_lexer": "ipython3",
   "version": "3.8.10"
  }
 },
 "nbformat": 4,
 "nbformat_minor": 5
}
